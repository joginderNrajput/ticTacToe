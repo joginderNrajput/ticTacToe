{
 "cells": [
  {
   "cell_type": "code",
   "execution_count": 1,
   "id": "fd49d3c8",
   "metadata": {},
   "outputs": [],
   "source": [
    "\n",
    "import random\n",
    "\n",
    "\n",
    "board = [\"-\", \"-\", \"-\",\n",
    "        \"-\", \"-\", \"-\",\n",
    "        \"-\", \"-\", \"-\"]\n",
    "currentPlayer = \"X\"\n",
    "winner = None\n",
    "gameRunning = True"
   ]
  },
  {
   "cell_type": "markdown",
   "id": "b5a189ab",
   "metadata": {},
   "source": [
    "# game board"
   ]
  },
  {
   "cell_type": "code",
   "execution_count": 2,
   "id": "6f0f9853",
   "metadata": {},
   "outputs": [],
   "source": [
    "def printBoard(board):\n",
    "    print(board[0] + \" | \" + board[1] + \" | \" + board[2])\n",
    "    print(\"---------\")\n",
    "    print(board[3] + \" | \" + board[4] + \" | \" + board[5])\n",
    "    print(\"---------\")\n",
    "    print(board[6] + \" | \" + board[7] + \" | \" + board[8])"
   ]
  },
  {
   "cell_type": "markdown",
   "id": "882ec33a",
   "metadata": {},
   "source": [
    "#  take player input"
   ]
  },
  {
   "cell_type": "code",
   "execution_count": 3,
   "id": "85281e1e",
   "metadata": {},
   "outputs": [],
   "source": [
    "def playerInput(board):\n",
    "    inp = int(input(\"Select a spot 1-9: \"))\n",
    "    if board[inp-1] == \"-\":\n",
    "        board[inp-1] = currentPlayer\n",
    "    else:\n",
    "        print(\"Oops player is already at that spot.\")"
   ]
  },
  {
   "cell_type": "markdown",
   "id": "0e5a0cf9",
   "metadata": {},
   "source": [
    "# check for win or tie"
   ]
  },
  {
   "cell_type": "code",
   "execution_count": 4,
   "id": "9457298c",
   "metadata": {},
   "outputs": [],
   "source": [
    "def checkHorizont(board):\n",
    "    global winner\n",
    "    if board[0] == board[1] == board[2] and board[0] != \"-\":\n",
    "        winner = board[0]\n",
    "        return True\n",
    "    elif board[3] == board[4] == board[5] and board[3] != \"-\":\n",
    "        winner = board[3]\n",
    "        return True\n",
    "    elif board[6] == board[7] == board[8] and board[6] != \"-\":\n",
    "        winner = board[6]\n",
    "        return True"
   ]
  },
  {
   "cell_type": "code",
   "execution_count": 5,
   "id": "d9fe7198",
   "metadata": {},
   "outputs": [],
   "source": [
    "def checkRow(board):\n",
    "    global winner\n",
    "    if board[0] == board[3] == board[6] and board[0] != \"-\":\n",
    "        winner = board[0]\n",
    "        return True\n",
    "    elif board[1] == board[4] == board[7] and board[1] != \"-\":\n",
    "        winner = board[1]\n",
    "        return True\n",
    "    elif board[2] == board[5] == board[8] and board[2] != \"-\":\n",
    "        winner = board[3]\n",
    "        return True"
   ]
  },
  {
   "cell_type": "code",
   "execution_count": 6,
   "id": "8fa9d045",
   "metadata": {},
   "outputs": [],
   "source": [
    "def checkDiag(board):\n",
    "    global winner\n",
    "    if board[0] == board[4] == board[8] and board[0] != \"-\":\n",
    "        winner = board[0]\n",
    "        return True\n",
    "    elif board[2] == board[4] == board[6] and board[4] != \"-\":\n",
    "        winner = board[2]\n",
    "        return True"
   ]
  },
  {
   "cell_type": "code",
   "execution_count": 7,
   "id": "83f1bdd1",
   "metadata": {},
   "outputs": [],
   "source": [
    "def checkWin(board):\n",
    "    global gameRunning\n",
    "    if checkHorizont(board):\n",
    "        printBoard(board)\n",
    "        print(f\"The winner is {winner}!\")\n",
    "        gameRunning = False\n",
    "\n",
    "    elif checkRow(board):\n",
    "        printBoard(board)\n",
    "        print(f\"The winner is {winner}!\")\n",
    "        gameRunning = False\n",
    "\n",
    "    elif checkDiag(board):\n",
    "        printBoard(board)\n",
    "        print(f\"The winner is {winner}!\")\n",
    "        gameRunning = False\n"
   ]
  },
  {
   "cell_type": "code",
   "execution_count": 8,
   "id": "3c7d16a2",
   "metadata": {},
   "outputs": [],
   "source": [
    "def checkTie(board):\n",
    "    global gameRunning\n",
    "    if \"-\" not in board:\n",
    "        printBoard(board)\n",
    "        print(\"It is a tie!\")\n",
    "        gameRunning = False"
   ]
  },
  {
   "cell_type": "markdown",
   "id": "72afdcef",
   "metadata": {},
   "source": [
    "# switch player"
   ]
  },
  {
   "cell_type": "code",
   "execution_count": 9,
   "id": "e6b505d4",
   "metadata": {},
   "outputs": [],
   "source": [
    "def switchPlayer():\n",
    "    global currentPlayer\n",
    "    if currentPlayer == \"X\":\n",
    "        currentPlayer = \"O\"\n",
    "    else:\n",
    "        currentPlayer = \"X\"\n"
   ]
  },
  {
   "cell_type": "code",
   "execution_count": 10,
   "id": "3b42aca8",
   "metadata": {},
   "outputs": [],
   "source": [
    "\n",
    "def computer(board):\n",
    "    while currentPlayer == \"O\":\n",
    "        position = random.randint(0, 8)\n",
    "        if board[position] == \"-\":\n",
    "            board[position] = \"O\"\n",
    "            switchPlayer()"
   ]
  },
  {
   "cell_type": "code",
   "execution_count": 11,
   "id": "78d388a3",
   "metadata": {},
   "outputs": [
    {
     "name": "stdout",
     "output_type": "stream",
     "text": [
      "- | - | -\n",
      "---------\n",
      "- | - | -\n",
      "---------\n",
      "- | - | -\n",
      "Select a spot 1-9: 1\n",
      "X | - | -\n",
      "---------\n",
      "O | - | -\n",
      "---------\n",
      "- | - | -\n",
      "Select a spot 1-9: 2\n",
      "X | X | -\n",
      "---------\n",
      "O | - | O\n",
      "---------\n",
      "- | - | -\n",
      "Select a spot 1-9: 3\n",
      "X | X | X\n",
      "---------\n",
      "O | - | O\n",
      "---------\n",
      "- | - | -\n",
      "The winner is X!\n",
      "X | X | X\n",
      "---------\n",
      "O | - | O\n",
      "---------\n",
      "- | O | -\n",
      "The winner is X!\n"
     ]
    }
   ],
   "source": [
    "\n",
    "while gameRunning:\n",
    "    printBoard(board)\n",
    "    playerInput(board)\n",
    "    checkWin(board)\n",
    "    checkTie(board)\n",
    "    switchPlayer()\n",
    "    computer(board)\n",
    "    checkWin(board)\n",
    "    checkTie(board)\n"
   ]
  }
 ],
 "metadata": {
  "kernelspec": {
   "display_name": "Python 3 (ipykernel)",
   "language": "python",
   "name": "python3"
  },
  "language_info": {
   "codemirror_mode": {
    "name": "ipython",
    "version": 3
   },
   "file_extension": ".py",
   "mimetype": "text/x-python",
   "name": "python",
   "nbconvert_exporter": "python",
   "pygments_lexer": "ipython3",
   "version": "3.10.1"
  }
 },
 "nbformat": 4,
 "nbformat_minor": 5
}
